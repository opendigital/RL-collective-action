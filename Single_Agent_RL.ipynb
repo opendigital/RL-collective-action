{
  "nbformat": 4,
  "nbformat_minor": 0,
  "metadata": {
    "colab": {
      "name": "Single Agent RL",
      "provenance": []
    },
    "kernelspec": {
      "name": "python3",
      "display_name": "Python 3"
    }
  },
  "cells": [
    {
      "cell_type": "code",
      "metadata": {
        "id": "psIieLE6ex-k"
      },
      "source": [
        "import numpy as np\n",
        "import math"
      ],
      "execution_count": null,
      "outputs": []
    },
    {
      "cell_type": "markdown",
      "metadata": {
        "id": "_dxDiiphjhvi"
      },
      "source": [
        "\n",
        "We will use the Bush-Mosteller approach:\n",
        "![probability for cooperating for public goods game](https://journals.plos.org/ploscompbiol/article/file?type=thumbnail&id=info:doi/10.1371/journal.pcbi.1005034.e021)\n",
        "\n",
        "![the stimulus (s) is based on whether or not the player’s actual payoff met some aspiration (expectation)](https://journals.plos.org/ploscompbiol/article/file?type=thumbnail&id=info:doi/10.1371/journal.pcbi.1005034.e002)\n",
        "\n",
        "\n",
        "\n",
        "* basic idea behind this is that whether or not a person contributes is based on whether or not they think the group’s work met an expectation of theirs\n",
        "* the initial condition p<sub>1</sub> is from the uniform density on [0, 1] independently for different players.\n",
        "* First, we define p<sub>t</sub> as the expected contribution that the player makes in round t. We draw the actual contribution at from the truncated Gaussian distribution whose mean and standard deviation are equal to pt and 0.2, respectively. If a<sub>t</sub> falls outside the interval [0, 1], we discard it and redraw at until it falls within [0, 1]. Second, we introduce a threshold contribution value X, distinct from A, used for regarding the action to be either cooperative or defective.\n",
        "    * X = 0.3 and 0.4 for conditional cooperative behavior\n",
        "    * beta = 0.4, A = 0.9"
      ]
    },
    {
      "cell_type": "code",
      "metadata": {
        "id": "xRMW96NEeOTP"
      },
      "source": [
        "iteNum = 1000\n",
        "N = 4 # number of agents\n",
        "tmax = 25 # number of rounds\n",
        "\n",
        "a = 1.6 # multiply factor for PGG\n",
        "\n",
        "std = 0.2 # std of distribution from which contribution is drawn\n",
        "beta = 0.4\n",
        "A = 1.0\n",
        "X = 0.5 # cooperativeness criteria"
      ],
      "execution_count": null,
      "outputs": []
    },
    {
      "cell_type": "code",
      "metadata": {
        "id": "Rm9ibFVUehWv"
      },
      "source": [
        "def initialize(net, payoff, at, pt, st, At):\n",
        "    for i in range(N):\n",
        "        payoff[i] = 0\n",
        "        pt[i] = np.random.rand()\n",
        "        at[i] = np.random.normal() * std + pt[i] # initial contribution\n",
        "\n",
        "        while at[i] < 0 or at[i] > 1:\n",
        "            at[i] = np.random.normal() * std + pt[i] # discard irrational contribution\n",
        "        \n",
        "        At[i] = A\n",
        "        st[i] = 0\n",
        "\n",
        "def completeNet():\n",
        "    net = [[] for i in range(N)]\n",
        "\n",
        "    for i in range(N):\n",
        "        for j in range(N):\n",
        "            if i != j:\n",
        "                net[i].append(j)\n",
        "    \n",
        "    return net"
      ],
      "execution_count": null,
      "outputs": []
    },
    {
      "cell_type": "code",
      "metadata": {
        "id": "kQOgzQzKf1ED"
      },
      "source": [
        "def updatePGG(net, payoff, at, pt, st, At):\n",
        "    # compute payoffs\n",
        "\n",
        "    for i in range(N):\n",
        "        pool = 0\n",
        "        for j in range(len(net[i])): # collect contributions from neighbors\n",
        "            pool += at[net[i][j]] * a\n",
        "        \n",
        "        pool += at[i] * a\n",
        "        payoff[i] = 1 - at[i] + pool / (len(net[i]) + 1)\n",
        "    \n",
        "    # update pt[]\n",
        "    for i in range(N):\n",
        "        st[i] = math.tanh(beta * (payoff[i] - At[i]))\n",
        "\n",
        "        if (at[i] >= X): # cooperation\n",
        "            if st[i] >= 0:\n",
        "                pt[i] = pt[i] + (1 - pt[i]) * st[i]\n",
        "            else:\n",
        "                pt[i] = pt[i] + pt[i] * st[i]\n",
        "        else: # defected\n",
        "            if st[i] >= 0:\n",
        "                pt[i] = pt[i] - pt[i] * st[i]\n",
        "            else:\n",
        "                pt[i] = pt[i] - (1 - pt[i]) * st[i]\n",
        "    \n",
        "    # draw contribution for next round\n",
        "    for i in range(N):\n",
        "        at[i] = np.random.normal() * std + pt[i]\n",
        "        while at[i] < 0 or at[i] > 1:\n",
        "            at[i] = np.random.normal() * std + pt[i]"
      ],
      "execution_count": null,
      "outputs": []
    },
    {
      "cell_type": "code",
      "metadata": {
        "colab": {
          "base_uri": "https://localhost:8080/"
        },
        "id": "AeORIfxohNJT",
        "outputId": "507a5890-f094-4519-8591-d0ab8d44f08e"
      },
      "source": [
        "def main():\n",
        "    aveCont = [0.0] * tmax\n",
        "    net = completeNet()\n",
        "    pt = [0.0] * N\n",
        "    At = [0.0] * N\n",
        "    st = [0.0] * N\n",
        "    at = [0.0] * N\n",
        "    payoff = [0.0] * N\n",
        "\n",
        "    for ite in range(iteNum):\n",
        "        initialize(net, payoff, at, pt, st, At)\n",
        "        for t in range(tmax):\n",
        "            updatePGG(net, payoff, at, pt, st, At)\n",
        "            aveCont[t] += np.mean(at)\n",
        "    \n",
        "    print(\"Round: Average Contribution\")\n",
        "    for t in range(tmax):\n",
        "        print('{0}: {1:0.3f}'.format(t + 1, aveCont[t] / iteNum))\n",
        "\n",
        "main()"
      ],
      "execution_count": null,
      "outputs": [
        {
          "output_type": "stream",
          "text": [
            "Round: Average Contribution\n",
            "1: 0.482\n",
            "2: 0.471\n",
            "3: 0.459\n",
            "4: 0.448\n",
            "5: 0.438\n",
            "6: 0.429\n",
            "7: 0.422\n",
            "8: 0.417\n",
            "9: 0.405\n",
            "10: 0.397\n",
            "11: 0.395\n",
            "12: 0.385\n",
            "13: 0.378\n",
            "14: 0.366\n",
            "15: 0.367\n",
            "16: 0.359\n",
            "17: 0.356\n",
            "18: 0.347\n",
            "19: 0.346\n",
            "20: 0.340\n",
            "21: 0.337\n",
            "22: 0.330\n",
            "23: 0.325\n",
            "24: 0.327\n",
            "25: 0.323\n"
          ],
          "name": "stdout"
        }
      ]
    }
  ]
}